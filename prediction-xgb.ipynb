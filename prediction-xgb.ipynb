{
 "cells": [
  {
   "cell_type": "code",
   "execution_count": 1,
   "id": "8e21591d",
   "metadata": {},
   "outputs": [],
   "source": [
    "import numpy as np\n",
    "import pandas as pd\n",
    "import matplotlib.pyplot as plt\n",
    "import seaborn as sns\n",
    "from sklearn.model_selection import train_test_split, GridSearchCV\n",
    "from sklearn.decomposition import PCA\n",
    "from sklearn.metrics import roc_auc_score, classification_report, ConfusionMatrixDisplay, RocCurveDisplay\n",
    "from sklearn.preprocessing import StandardScaler\n",
    "from xgboost import XGBClassifier\n",
    "\n",
    "%matplotlib inline"
   ]
  },
  {
   "cell_type": "code",
   "execution_count": 2,
   "id": "b3637d23",
   "metadata": {},
   "outputs": [
    {
     "data": {
      "text/html": [
       "<div>\n",
       "<style scoped>\n",
       "    .dataframe tbody tr th:only-of-type {\n",
       "        vertical-align: middle;\n",
       "    }\n",
       "\n",
       "    .dataframe tbody tr th {\n",
       "        vertical-align: top;\n",
       "    }\n",
       "\n",
       "    .dataframe thead th {\n",
       "        text-align: right;\n",
       "    }\n",
       "</style>\n",
       "<table border=\"1\" class=\"dataframe\">\n",
       "  <thead>\n",
       "    <tr style=\"text-align: right;\">\n",
       "      <th></th>\n",
       "      <th>SeniorCitizen</th>\n",
       "      <th>MonthlyCharges</th>\n",
       "      <th>TotalCharges_log</th>\n",
       "      <th>gender_Male</th>\n",
       "      <th>Partner_Yes</th>\n",
       "      <th>Dependents_Yes</th>\n",
       "      <th>PhoneService_Yes</th>\n",
       "      <th>MultipleLines_No phone service</th>\n",
       "      <th>MultipleLines_Yes</th>\n",
       "      <th>InternetService_Fiber optic</th>\n",
       "      <th>...</th>\n",
       "      <th>Contract_One year</th>\n",
       "      <th>Contract_Two year</th>\n",
       "      <th>PaperlessBilling_Yes</th>\n",
       "      <th>PaymentMethod_Credit card (automatic)</th>\n",
       "      <th>PaymentMethod_Electronic check</th>\n",
       "      <th>PaymentMethod_Mailed check</th>\n",
       "      <th>tenure_cohort_12-24 Months</th>\n",
       "      <th>tenure_cohort_24-48 Months</th>\n",
       "      <th>tenure_cohort_Over 48 Months</th>\n",
       "      <th>Churn</th>\n",
       "    </tr>\n",
       "  </thead>\n",
       "  <tbody>\n",
       "    <tr>\n",
       "      <th>0</th>\n",
       "      <td>0</td>\n",
       "      <td>29.85</td>\n",
       "      <td>3.429137</td>\n",
       "      <td>0</td>\n",
       "      <td>1</td>\n",
       "      <td>0</td>\n",
       "      <td>0</td>\n",
       "      <td>1</td>\n",
       "      <td>0</td>\n",
       "      <td>0</td>\n",
       "      <td>...</td>\n",
       "      <td>0</td>\n",
       "      <td>0</td>\n",
       "      <td>1</td>\n",
       "      <td>0</td>\n",
       "      <td>1</td>\n",
       "      <td>0</td>\n",
       "      <td>0</td>\n",
       "      <td>0</td>\n",
       "      <td>0</td>\n",
       "      <td>0</td>\n",
       "    </tr>\n",
       "    <tr>\n",
       "      <th>1</th>\n",
       "      <td>0</td>\n",
       "      <td>56.95</td>\n",
       "      <td>7.544597</td>\n",
       "      <td>1</td>\n",
       "      <td>0</td>\n",
       "      <td>0</td>\n",
       "      <td>1</td>\n",
       "      <td>0</td>\n",
       "      <td>0</td>\n",
       "      <td>0</td>\n",
       "      <td>...</td>\n",
       "      <td>1</td>\n",
       "      <td>0</td>\n",
       "      <td>0</td>\n",
       "      <td>0</td>\n",
       "      <td>0</td>\n",
       "      <td>1</td>\n",
       "      <td>0</td>\n",
       "      <td>1</td>\n",
       "      <td>0</td>\n",
       "      <td>0</td>\n",
       "    </tr>\n",
       "    <tr>\n",
       "      <th>2</th>\n",
       "      <td>0</td>\n",
       "      <td>53.85</td>\n",
       "      <td>4.692723</td>\n",
       "      <td>1</td>\n",
       "      <td>0</td>\n",
       "      <td>0</td>\n",
       "      <td>1</td>\n",
       "      <td>0</td>\n",
       "      <td>0</td>\n",
       "      <td>0</td>\n",
       "      <td>...</td>\n",
       "      <td>0</td>\n",
       "      <td>0</td>\n",
       "      <td>1</td>\n",
       "      <td>0</td>\n",
       "      <td>0</td>\n",
       "      <td>1</td>\n",
       "      <td>0</td>\n",
       "      <td>0</td>\n",
       "      <td>0</td>\n",
       "      <td>1</td>\n",
       "    </tr>\n",
       "    <tr>\n",
       "      <th>3</th>\n",
       "      <td>0</td>\n",
       "      <td>42.30</td>\n",
       "      <td>7.518471</td>\n",
       "      <td>1</td>\n",
       "      <td>0</td>\n",
       "      <td>0</td>\n",
       "      <td>0</td>\n",
       "      <td>1</td>\n",
       "      <td>0</td>\n",
       "      <td>0</td>\n",
       "      <td>...</td>\n",
       "      <td>1</td>\n",
       "      <td>0</td>\n",
       "      <td>0</td>\n",
       "      <td>0</td>\n",
       "      <td>0</td>\n",
       "      <td>0</td>\n",
       "      <td>0</td>\n",
       "      <td>1</td>\n",
       "      <td>0</td>\n",
       "      <td>0</td>\n",
       "    </tr>\n",
       "    <tr>\n",
       "      <th>4</th>\n",
       "      <td>0</td>\n",
       "      <td>70.70</td>\n",
       "      <td>5.028148</td>\n",
       "      <td>0</td>\n",
       "      <td>0</td>\n",
       "      <td>0</td>\n",
       "      <td>1</td>\n",
       "      <td>0</td>\n",
       "      <td>0</td>\n",
       "      <td>1</td>\n",
       "      <td>...</td>\n",
       "      <td>0</td>\n",
       "      <td>0</td>\n",
       "      <td>1</td>\n",
       "      <td>0</td>\n",
       "      <td>1</td>\n",
       "      <td>0</td>\n",
       "      <td>0</td>\n",
       "      <td>0</td>\n",
       "      <td>0</td>\n",
       "      <td>1</td>\n",
       "    </tr>\n",
       "  </tbody>\n",
       "</table>\n",
       "<p>5 rows × 33 columns</p>\n",
       "</div>"
      ],
      "text/plain": [
       "   SeniorCitizen  MonthlyCharges  TotalCharges_log  gender_Male  Partner_Yes  \\\n",
       "0              0           29.85          3.429137            0            1   \n",
       "1              0           56.95          7.544597            1            0   \n",
       "2              0           53.85          4.692723            1            0   \n",
       "3              0           42.30          7.518471            1            0   \n",
       "4              0           70.70          5.028148            0            0   \n",
       "\n",
       "   Dependents_Yes  PhoneService_Yes  MultipleLines_No phone service  \\\n",
       "0               0                 0                               1   \n",
       "1               0                 1                               0   \n",
       "2               0                 1                               0   \n",
       "3               0                 0                               1   \n",
       "4               0                 1                               0   \n",
       "\n",
       "   MultipleLines_Yes  InternetService_Fiber optic  ...  Contract_One year  \\\n",
       "0                  0                            0  ...                  0   \n",
       "1                  0                            0  ...                  1   \n",
       "2                  0                            0  ...                  0   \n",
       "3                  0                            0  ...                  1   \n",
       "4                  0                            1  ...                  0   \n",
       "\n",
       "   Contract_Two year  PaperlessBilling_Yes  \\\n",
       "0                  0                     1   \n",
       "1                  0                     0   \n",
       "2                  0                     1   \n",
       "3                  0                     0   \n",
       "4                  0                     1   \n",
       "\n",
       "   PaymentMethod_Credit card (automatic)  PaymentMethod_Electronic check  \\\n",
       "0                                      0                               1   \n",
       "1                                      0                               0   \n",
       "2                                      0                               0   \n",
       "3                                      0                               0   \n",
       "4                                      0                               1   \n",
       "\n",
       "   PaymentMethod_Mailed check  tenure_cohort_12-24 Months  \\\n",
       "0                           0                           0   \n",
       "1                           1                           0   \n",
       "2                           1                           0   \n",
       "3                           0                           0   \n",
       "4                           0                           0   \n",
       "\n",
       "   tenure_cohort_24-48 Months  tenure_cohort_Over 48 Months  Churn  \n",
       "0                           0                             0      0  \n",
       "1                           1                             0      0  \n",
       "2                           0                             0      1  \n",
       "3                           1                             0      0  \n",
       "4                           0                             0      1  \n",
       "\n",
       "[5 rows x 33 columns]"
      ]
     },
     "execution_count": 2,
     "metadata": {},
     "output_type": "execute_result"
    }
   ],
   "source": [
    "data_path = \"dataset/data_clean.csv\"\n",
    "\n",
    "df_clean = pd.read_csv(data_path)\n",
    "\n",
    "df_clean.head()"
   ]
  },
  {
   "cell_type": "code",
   "execution_count": 28,
   "id": "c73fcaed",
   "metadata": {},
   "outputs": [
    {
     "name": "stdout",
     "output_type": "stream",
     "text": [
      "Examples:\n",
      "  Total: 7032\n",
      "  Positive: 1869 (26.57849829351536%)\n",
      "  Negative: 5163 (73.42150170648465%)\n"
     ]
    }
   ],
   "source": [
    "neg, pos = np.bincount(df_clean[\"Churn\"])\n",
    "total = pos + neg\n",
    "\n",
    "print(f'Examples:\\n  Total: {total}\\n  Positive: {pos} ({100 * pos / total}%)\\n  Negative: {neg} ({100 * neg / total}%)')"
   ]
  },
  {
   "cell_type": "code",
   "execution_count": 4,
   "id": "82727052",
   "metadata": {},
   "outputs": [
    {
     "data": {
      "text/plain": [
       "((5695, 32), (633, 32), (704, 32))"
      ]
     },
     "execution_count": 4,
     "metadata": {},
     "output_type": "execute_result"
    }
   ],
   "source": [
    "df_train, df_test = train_test_split(df_clean, test_size=0.1)\n",
    "\n",
    "df_train, df_val = train_test_split(df_train, test_size=0.1)\n",
    "\n",
    "train_labels = np.array(df_train.pop(\"Churn\"))\n",
    "bool_train_labels = train_labels != 0\n",
    "val_labels = np.array(df_val.pop(\"Churn\"))\n",
    "test_labels = np.array(df_test.pop(\"Churn\"))\n",
    "\n",
    "train_feat = np.array(df_train)\n",
    "val_feat = np.array(df_val)\n",
    "test_feat = np.array(df_test)\n",
    "\n",
    "train_feat.shape, val_feat.shape, test_feat.shape"
   ]
  },
  {
   "cell_type": "code",
   "execution_count": 5,
   "id": "cd476030",
   "metadata": {},
   "outputs": [],
   "source": [
    "scaler = StandardScaler()\n",
    "\n",
    "train_feat = np.clip(scaler.fit_transform(train_feat), -5, 5)\n",
    "val_feat = np.clip(scaler.transform(val_feat), -5, 5)\n",
    "test_feat = np.clip(scaler.transform(test_feat), -5, 5)"
   ]
  },
  {
   "cell_type": "code",
   "execution_count": 6,
   "id": "39af7d4c",
   "metadata": {},
   "outputs": [],
   "source": [
    "# pca = PCA(0.95)"
   ]
  },
  {
   "cell_type": "code",
   "execution_count": 7,
   "id": "b91ce2ef",
   "metadata": {},
   "outputs": [
    {
     "data": {
      "text/plain": [
       "0.8009478672985783"
      ]
     },
     "execution_count": 7,
     "metadata": {},
     "output_type": "execute_result"
    }
   ],
   "source": [
    "xgb = XGBClassifier()\n",
    "\n",
    "xgb.fit(train_feat, train_labels)\n",
    "\n",
    "xgb.score(val_feat, val_labels)"
   ]
  },
  {
   "cell_type": "code",
   "execution_count": 8,
   "id": "a769e6de",
   "metadata": {},
   "outputs": [],
   "source": [
    "xgb_preds = xgb.predict(val_feat)"
   ]
  },
  {
   "cell_type": "code",
   "execution_count": 9,
   "id": "58678e78",
   "metadata": {},
   "outputs": [
    {
     "data": {
      "text/plain": [
       "0.7068620919387076"
      ]
     },
     "execution_count": 9,
     "metadata": {},
     "output_type": "execute_result"
    }
   ],
   "source": [
    "roc_auc_score(val_labels, xgb_preds)"
   ]
  },
  {
   "cell_type": "code",
   "execution_count": 10,
   "id": "bc76f18f",
   "metadata": {},
   "outputs": [
    {
     "name": "stdout",
     "output_type": "stream",
     "text": [
      "              precision    recall  f1-score   support\n",
      "\n",
      "           0       0.85      0.89      0.87       475\n",
      "           1       0.62      0.52      0.57       158\n",
      "\n",
      "    accuracy                           0.80       633\n",
      "   macro avg       0.73      0.71      0.72       633\n",
      "weighted avg       0.79      0.80      0.79       633\n",
      "\n"
     ]
    }
   ],
   "source": [
    "print(classification_report(val_labels, xgb_preds))"
   ]
  },
  {
   "cell_type": "code",
   "execution_count": 11,
   "id": "de9814c8",
   "metadata": {},
   "outputs": [
    {
     "data": {
      "text/plain": [
       "<sklearn.metrics._plot.confusion_matrix.ConfusionMatrixDisplay at 0x18eec0c89a0>"
      ]
     },
     "execution_count": 11,
     "metadata": {},
     "output_type": "execute_result"
    },
    {
     "data": {
      "image/png": "[encoded data removed]",
      "text/plain": [
       "<Figure size 432x288 with 2 Axes>"
      ]
     },
     "metadata": {
      "needs_background": "light"
     },
     "output_type": "display_data"
    }
   ],
   "source": [
    "ConfusionMatrixDisplay.from_estimator(xgb, val_feat, val_labels)"
   ]
  },
  {
   "cell_type": "code",
   "execution_count": 53,
   "id": "5849be73",
   "metadata": {},
   "outputs": [
    {
     "data": {
      "text/plain": [
       "2.7624398073836276"
      ]
     },
     "execution_count": 53,
     "metadata": {},
     "output_type": "execute_result"
    }
   ],
   "source": [
    "# cost weight for treating imbalance\n",
    "est_weight = neg/pos\n",
    "est_weight"
   ]
  },
  {
   "cell_type": "code",
   "execution_count": 54,
   "id": "a9b913f2",
   "metadata": {},
   "outputs": [
    {
     "data": {
      "text/plain": [
       "<sklearn.metrics._plot.confusion_matrix.ConfusionMatrixDisplay at 0x18efad50460>"
      ]
     },
     "execution_count": 54,
     "metadata": {},
     "output_type": "execute_result"
    },
    {
     "data": {
      "image/png": "[encoded data removed]",
      "text/plain": [
       "<Figure size 432x288 with 2 Axes>"
      ]
     },
     "metadata": {
      "needs_background": "light"
     },
     "output_type": "display_data"
    }
   ],
   "source": [
    "class_weighted_xgb = XGBClassifier(scale_pos_weight=est_weight)\n",
    "\n",
    "class_weighted_xgb.fit(train_feat, train_labels)\n",
    "\n",
    "ConfusionMatrixDisplay.from_estimator(class_weighted_xgb, val_feat, val_labels)"
   ]
  },
  {
   "cell_type": "code",
   "execution_count": 59,
   "id": "aa4cf631",
   "metadata": {},
   "outputs": [],
   "source": [
    "search = {\n",
    "    \"xgboost\": {\n",
    "        \"model\": XGBClassifier(gpu_id=0, use_label_encoder=False, verbosity=1),\n",
    "        \"params\": {\n",
    "            \"n_estimators\": [10, 15, 25, 50, 75, 100, 150, 200],\n",
    "            \"learning_rate\": [0.05, 0.1, 0.3, 0.5],\n",
    "            \"max_depth\": [2, 3, 4, 5, 6, 7, 8],\n",
    "            \"scale_pos_weight\": [1.5, 2.0, est_weight, 2.8]\n",
    "        }\n",
    "    }\n",
    "}"
   ]
  },
  {
   "cell_type": "code",
   "execution_count": 60,
   "id": "144f8354",
   "metadata": {},
   "outputs": [
    {
     "name": "stdout",
     "output_type": "stream",
     "text": [
      "Fitting 3 folds for each of 896 candidates, totalling 2688 fits\n"
     ]
    }
   ],
   "source": [
    "scores = []\n",
    "\n",
    "for name, clf in search.items():\n",
    "    grid = GridSearchCV(\n",
    "        estimator=clf[\"model\"],\n",
    "        param_grid=clf[\"params\"],\n",
    "        cv=3,\n",
    "        scoring=\"roc_auc\",\n",
    "        return_train_score=False,\n",
    "        n_jobs=-1,\n",
    "        refit=False,\n",
    "        verbose=3\n",
    "    )\n",
    "    grid.fit(train_feat, train_labels)\n",
    "    scores.append({\n",
    "        \"name\": name,\n",
    "        \"best_params\": grid.best_params_,\n",
    "        \"best_score\": grid.best_score_\n",
    "    })"
   ]
  },
  {
   "cell_type": "code",
   "execution_count": 61,
   "id": "4f265779",
   "metadata": {},
   "outputs": [
    {
     "data": {
      "text/plain": [
       "[{'name': 'xgboost',\n",
       "  'best_params': {'learning_rate': 0.1,\n",
       "   'max_depth': 3,\n",
       "   'n_estimators': 50,\n",
       "   'scale_pos_weight': 2.0},\n",
       "  'best_score': 0.8456809518306505}]"
      ]
     },
     "execution_count": 61,
     "metadata": {},
     "output_type": "execute_result"
    }
   ],
   "source": [
    "scores"
   ]
  },
  {
   "cell_type": "code",
   "execution_count": 62,
   "id": "5b6a87f6",
   "metadata": {},
   "outputs": [
    {
     "data": {
      "text/plain": [
       "0.7898894154818326"
      ]
     },
     "execution_count": 62,
     "metadata": {},
     "output_type": "execute_result"
    }
   ],
   "source": [
    "best_xgb = XGBClassifier(n_estimators=50, learning_rate=0.1, max_depth=3, scale_pos_weight=2.0)\n",
    "\n",
    "best_xgb.fit(train_feat, train_labels)\n",
    "\n",
    "best_xgb.score(val_feat, val_labels)"
   ]
  },
  {
   "cell_type": "code",
   "execution_count": 63,
   "id": "7437ddab",
   "metadata": {},
   "outputs": [],
   "source": [
    "preds = best_xgb.predict(val_feat)"
   ]
  },
  {
   "cell_type": "code",
   "execution_count": 64,
   "id": "f506c07e",
   "metadata": {},
   "outputs": [
    {
     "data": {
      "text/plain": [
       "0.77763491005996"
      ]
     },
     "execution_count": 64,
     "metadata": {},
     "output_type": "execute_result"
    }
   ],
   "source": [
    "roc_auc_score(val_labels, preds)"
   ]
  },
  {
   "cell_type": "code",
   "execution_count": 65,
   "id": "3dcec9ad",
   "metadata": {},
   "outputs": [
    {
     "name": "stdout",
     "output_type": "stream",
     "text": [
      "              precision    recall  f1-score   support\n",
      "\n",
      "           0       0.91      0.80      0.85       475\n",
      "           1       0.56      0.75      0.64       158\n",
      "\n",
      "    accuracy                           0.79       633\n",
      "   macro avg       0.73      0.78      0.75       633\n",
      "weighted avg       0.82      0.79      0.80       633\n",
      "\n"
     ]
    }
   ],
   "source": [
    "print(classification_report(val_labels, preds))"
   ]
  },
  {
   "cell_type": "code",
   "execution_count": 66,
   "id": "d80e34ad",
   "metadata": {},
   "outputs": [
    {
     "data": {
      "text/plain": [
       "<sklearn.metrics._plot.confusion_matrix.ConfusionMatrixDisplay at 0x18ef20014e0>"
      ]
     },
     "execution_count": 66,
     "metadata": {},
     "output_type": "execute_result"
    },
    {
     "data": {
      "image/png": "[encoded data removed]",
      "text/plain": [
       "<Figure size 432x288 with 2 Axes>"
      ]
     },
     "metadata": {
      "needs_background": "light"
     },
     "output_type": "display_data"
    }
   ],
   "source": [
    "ConfusionMatrixDisplay.from_estimator(best_xgb, val_feat, val_labels)"
   ]
  },
  {
   "cell_type": "code",
   "execution_count": 67,
   "id": "14622f50",
   "metadata": {},
   "outputs": [
    {
     "data": {
      "text/plain": [
       "<sklearn.metrics._plot.roc_curve.RocCurveDisplay at 0x18efcab6530>"
      ]
     },
     "execution_count": 67,
     "metadata": {},
     "output_type": "execute_result"
    },
    {
     "data": {
      "image/png": "[encoded data removed]",
      "text/plain": [
       "<Figure size 432x288 with 1 Axes>"
      ]
     },
     "metadata": {
      "needs_background": "light"
     },
     "output_type": "display_data"
    }
   ],
   "source": [
    "RocCurveDisplay.from_estimator(best_xgb, val_feat, val_labels)"
   ]
  },
  {
   "cell_type": "markdown",
   "id": "711874a9",
   "metadata": {},
   "source": [
    "### Test set score"
   ]
  },
  {
   "cell_type": "code",
   "execution_count": 68,
   "id": "19d92d63",
   "metadata": {},
   "outputs": [
    {
     "data": {
      "text/plain": [
       "0.7826704545454546"
      ]
     },
     "execution_count": 68,
     "metadata": {},
     "output_type": "execute_result"
    }
   ],
   "source": [
    "best_xgb.score(test_feat, test_labels)"
   ]
  },
  {
   "cell_type": "code",
   "execution_count": 69,
   "id": "ea895185",
   "metadata": {},
   "outputs": [],
   "source": [
    "test_preds = best_xgb.predict(test_feat)"
   ]
  },
  {
   "cell_type": "code",
   "execution_count": 70,
   "id": "5dbd484b",
   "metadata": {},
   "outputs": [
    {
     "data": {
      "text/plain": [
       "0.7714445331205108"
      ]
     },
     "execution_count": 70,
     "metadata": {},
     "output_type": "execute_result"
    }
   ],
   "source": [
    "roc_auc_score(test_labels, test_preds)"
   ]
  },
  {
   "cell_type": "code",
   "execution_count": 71,
   "id": "6a6d569d",
   "metadata": {},
   "outputs": [
    {
     "name": "stdout",
     "output_type": "stream",
     "text": [
      "              precision    recall  f1-score   support\n",
      "\n",
      "           0       0.90      0.79      0.84       525\n",
      "           1       0.55      0.75      0.64       179\n",
      "\n",
      "    accuracy                           0.78       704\n",
      "   macro avg       0.73      0.77      0.74       704\n",
      "weighted avg       0.81      0.78      0.79       704\n",
      "\n"
     ]
    }
   ],
   "source": [
    "print(classification_report(test_labels, test_preds))"
   ]
  },
  {
   "cell_type": "code",
   "execution_count": 72,
   "id": "f8a6770f",
   "metadata": {},
   "outputs": [
    {
     "data": {
      "text/plain": [
       "<sklearn.metrics._plot.confusion_matrix.ConfusionMatrixDisplay at 0x18efab7f430>"
      ]
     },
     "execution_count": 72,
     "metadata": {},
     "output_type": "execute_result"
    },
    {
     "data": {
      "image/png": "[encoded data removed]",
      "text/plain": [
       "<Figure size 432x288 with 2 Axes>"
      ]
     },
     "metadata": {
      "needs_background": "light"
     },
     "output_type": "display_data"
    }
   ],
   "source": [
    "ConfusionMatrixDisplay.from_estimator(best_xgb, test_feat, test_labels)"
   ]
  },
  {
   "cell_type": "code",
   "execution_count": 73,
   "id": "5b969dfb",
   "metadata": {},
   "outputs": [
    {
     "data": {
      "text/plain": [
       "<sklearn.metrics._plot.roc_curve.RocCurveDisplay at 0x18efd114a90>"
      ]
     },
     "execution_count": 73,
     "metadata": {},
     "output_type": "execute_result"
    },
    {
     "data": {
      "image/png": "[encoded data removed]",
      "text/plain": [
       "<Figure size 432x288 with 1 Axes>"
      ]
     },
     "metadata": {
      "needs_background": "light"
     },
     "output_type": "display_data"
    }
   ],
   "source": [
    "RocCurveDisplay.from_estimator(best_xgb, test_feat, test_labels)"
   ]
  },
  {
   "cell_type": "code",
   "execution_count": null,
   "id": "4f9b294c",
   "metadata": {},
   "outputs": [],
   "source": []
  },
  {
   "cell_type": "code",
   "execution_count": null,
   "id": "1eaa1589",
   "metadata": {},
   "outputs": [],
   "source": []
  }
 ],
 "metadata": {
  "kernelspec": {
   "display_name": "Python 3 (ipykernel)",
   "language": "python",
   "name": "python3"
  },
  "language_info": {
   "codemirror_mode": {
    "name": "ipython",
    "version": 3
   },
   "file_extension": ".py",
   "mimetype": "text/x-python",
   "name": "python",
   "nbconvert_exporter": "python",
   "pygments_lexer": "ipython3",
   "version": "3.10.5"
  }
 },
 "nbformat": 4,
 "nbformat_minor": 5
}
