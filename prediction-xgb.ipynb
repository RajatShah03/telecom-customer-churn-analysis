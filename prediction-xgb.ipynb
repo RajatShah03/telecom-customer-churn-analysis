{
 "cells": [
  {
   "cell_type": "code",
   "execution_count": 1,
   "id": "f122d79f",
   "metadata": {},
   "outputs": [],
   "source": [
    "import numpy as np\n",
    "import pandas as pd\n",
    "import matplotlib.pyplot as plt\n",
    "import seaborn as sns\n",
    "from sklearn.model_selection import train_test_split, GridSearchCV\n",
    "from sklearn.decomposition import PCA\n",
    "from sklearn.metrics import roc_auc_score, classification_report, ConfusionMatrixDisplay, RocCurveDisplay\n",
    "from sklearn.preprocessing import StandardScaler\n",
    "from xgboost import XGBClassifier\n",
    "\n",
    "%matplotlib inline"
   ]
  },
  {
   "cell_type": "code",
   "execution_count": 2,
   "id": "821aea0e",
   "metadata": {},
   "outputs": [
    {
     "data": {
      "text/html": [
       "<div>\n",
       "<style scoped>\n",
       "    .dataframe tbody tr th:only-of-type {\n",
       "        vertical-align: middle;\n",
       "    }\n",
       "\n",
       "    .dataframe tbody tr th {\n",
       "        vertical-align: top;\n",
       "    }\n",
       "\n",
       "    .dataframe thead th {\n",
       "        text-align: right;\n",
       "    }\n",
       "</style>\n",
       "<table border=\"1\" class=\"dataframe\">\n",
       "  <thead>\n",
       "    <tr style=\"text-align: right;\">\n",
       "      <th></th>\n",
       "      <th>SeniorCitizen</th>\n",
       "      <th>MonthlyCharges</th>\n",
       "      <th>TotalCharges_log</th>\n",
       "      <th>gender_Male</th>\n",
       "      <th>Partner_Yes</th>\n",
       "      <th>Dependents_Yes</th>\n",
       "      <th>PhoneService_Yes</th>\n",
       "      <th>MultipleLines_No phone service</th>\n",
       "      <th>MultipleLines_Yes</th>\n",
       "      <th>InternetService_Fiber optic</th>\n",
       "      <th>...</th>\n",
       "      <th>Contract_One year</th>\n",
       "      <th>Contract_Two year</th>\n",
       "      <th>PaperlessBilling_Yes</th>\n",
       "      <th>PaymentMethod_Credit card (automatic)</th>\n",
       "      <th>PaymentMethod_Electronic check</th>\n",
       "      <th>PaymentMethod_Mailed check</th>\n",
       "      <th>tenure_cohort_12-24 Months</th>\n",
       "      <th>tenure_cohort_24-48 Months</th>\n",
       "      <th>tenure_cohort_Over 48 Months</th>\n",
       "      <th>Churn</th>\n",
       "    </tr>\n",
       "  </thead>\n",
       "  <tbody>\n",
       "    <tr>\n",
       "      <th>0</th>\n",
       "      <td>0</td>\n",
       "      <td>29.85</td>\n",
       "      <td>3.429137</td>\n",
       "      <td>0</td>\n",
       "      <td>1</td>\n",
       "      <td>0</td>\n",
       "      <td>0</td>\n",
       "      <td>1</td>\n",
       "      <td>0</td>\n",
       "      <td>0</td>\n",
       "      <td>...</td>\n",
       "      <td>0</td>\n",
       "      <td>0</td>\n",
       "      <td>1</td>\n",
       "      <td>0</td>\n",
       "      <td>1</td>\n",
       "      <td>0</td>\n",
       "      <td>0</td>\n",
       "      <td>0</td>\n",
       "      <td>0</td>\n",
       "      <td>0</td>\n",
       "    </tr>\n",
       "    <tr>\n",
       "      <th>1</th>\n",
       "      <td>0</td>\n",
       "      <td>56.95</td>\n",
       "      <td>7.544597</td>\n",
       "      <td>1</td>\n",
       "      <td>0</td>\n",
       "      <td>0</td>\n",
       "      <td>1</td>\n",
       "      <td>0</td>\n",
       "      <td>0</td>\n",
       "      <td>0</td>\n",
       "      <td>...</td>\n",
       "      <td>1</td>\n",
       "      <td>0</td>\n",
       "      <td>0</td>\n",
       "      <td>0</td>\n",
       "      <td>0</td>\n",
       "      <td>1</td>\n",
       "      <td>0</td>\n",
       "      <td>1</td>\n",
       "      <td>0</td>\n",
       "      <td>0</td>\n",
       "    </tr>\n",
       "    <tr>\n",
       "      <th>2</th>\n",
       "      <td>0</td>\n",
       "      <td>53.85</td>\n",
       "      <td>4.692723</td>\n",
       "      <td>1</td>\n",
       "      <td>0</td>\n",
       "      <td>0</td>\n",
       "      <td>1</td>\n",
       "      <td>0</td>\n",
       "      <td>0</td>\n",
       "      <td>0</td>\n",
       "      <td>...</td>\n",
       "      <td>0</td>\n",
       "      <td>0</td>\n",
       "      <td>1</td>\n",
       "      <td>0</td>\n",
       "      <td>0</td>\n",
       "      <td>1</td>\n",
       "      <td>0</td>\n",
       "      <td>0</td>\n",
       "      <td>0</td>\n",
       "      <td>1</td>\n",
       "    </tr>\n",
       "    <tr>\n",
       "      <th>3</th>\n",
       "      <td>0</td>\n",
       "      <td>42.30</td>\n",
       "      <td>7.518471</td>\n",
       "      <td>1</td>\n",
       "      <td>0</td>\n",
       "      <td>0</td>\n",
       "      <td>0</td>\n",
       "      <td>1</td>\n",
       "      <td>0</td>\n",
       "      <td>0</td>\n",
       "      <td>...</td>\n",
       "      <td>1</td>\n",
       "      <td>0</td>\n",
       "      <td>0</td>\n",
       "      <td>0</td>\n",
       "      <td>0</td>\n",
       "      <td>0</td>\n",
       "      <td>0</td>\n",
       "      <td>1</td>\n",
       "      <td>0</td>\n",
       "      <td>0</td>\n",
       "    </tr>\n",
       "    <tr>\n",
       "      <th>4</th>\n",
       "      <td>0</td>\n",
       "      <td>70.70</td>\n",
       "      <td>5.028148</td>\n",
       "      <td>0</td>\n",
       "      <td>0</td>\n",
       "      <td>0</td>\n",
       "      <td>1</td>\n",
       "      <td>0</td>\n",
       "      <td>0</td>\n",
       "      <td>1</td>\n",
       "      <td>...</td>\n",
       "      <td>0</td>\n",
       "      <td>0</td>\n",
       "      <td>1</td>\n",
       "      <td>0</td>\n",
       "      <td>1</td>\n",
       "      <td>0</td>\n",
       "      <td>0</td>\n",
       "      <td>0</td>\n",
       "      <td>0</td>\n",
       "      <td>1</td>\n",
       "    </tr>\n",
       "  </tbody>\n",
       "</table>\n",
       "<p>5 rows × 33 columns</p>\n",
       "</div>"
      ],
      "text/plain": [
       "   SeniorCitizen  MonthlyCharges  TotalCharges_log  gender_Male  Partner_Yes  \\\n",
       "0              0           29.85          3.429137            0            1   \n",
       "1              0           56.95          7.544597            1            0   \n",
       "2              0           53.85          4.692723            1            0   \n",
       "3              0           42.30          7.518471            1            0   \n",
       "4              0           70.70          5.028148            0            0   \n",
       "\n",
       "   Dependents_Yes  PhoneService_Yes  MultipleLines_No phone service  \\\n",
       "0               0                 0                               1   \n",
       "1               0                 1                               0   \n",
       "2               0                 1                               0   \n",
       "3               0                 0                               1   \n",
       "4               0                 1                               0   \n",
       "\n",
       "   MultipleLines_Yes  InternetService_Fiber optic  ...  Contract_One year  \\\n",
       "0                  0                            0  ...                  0   \n",
       "1                  0                            0  ...                  1   \n",
       "2                  0                            0  ...                  0   \n",
       "3                  0                            0  ...                  1   \n",
       "4                  0                            1  ...                  0   \n",
       "\n",
       "   Contract_Two year  PaperlessBilling_Yes  \\\n",
       "0                  0                     1   \n",
       "1                  0                     0   \n",
       "2                  0                     1   \n",
       "3                  0                     0   \n",
       "4                  0                     1   \n",
       "\n",
       "   PaymentMethod_Credit card (automatic)  PaymentMethod_Electronic check  \\\n",
       "0                                      0                               1   \n",
       "1                                      0                               0   \n",
       "2                                      0                               0   \n",
       "3                                      0                               0   \n",
       "4                                      0                               1   \n",
       "\n",
       "   PaymentMethod_Mailed check  tenure_cohort_12-24 Months  \\\n",
       "0                           0                           0   \n",
       "1                           1                           0   \n",
       "2                           1                           0   \n",
       "3                           0                           0   \n",
       "4                           0                           0   \n",
       "\n",
       "   tenure_cohort_24-48 Months  tenure_cohort_Over 48 Months  Churn  \n",
       "0                           0                             0      0  \n",
       "1                           1                             0      0  \n",
       "2                           0                             0      1  \n",
       "3                           1                             0      0  \n",
       "4                           0                             0      1  \n",
       "\n",
       "[5 rows x 33 columns]"
      ]
     },
     "execution_count": 2,
     "metadata": {},
     "output_type": "execute_result"
    }
   ],
   "source": [
    "data_path = \"dataset/data_clean.csv\"\n",
    "\n",
    "df_clean = pd.read_csv(data_path)\n",
    "\n",
    "df_clean.head()"
   ]
  },
  {
   "cell_type": "code",
   "execution_count": 3,
   "id": "ed27b5bd",
   "metadata": {},
   "outputs": [
    {
     "name": "stdout",
     "output_type": "stream",
     "text": [
      "Examples:\n",
      "  Total: 7032\n",
      "  Positive: 5163 (73.42150170648465%)\n",
      "  Negative: 1869 (26.57849829351536%)\n"
     ]
    }
   ],
   "source": [
    "pos, neg = np.bincount(df_clean[\"Churn\"])\n",
    "total = pos + neg\n",
    "\n",
    "print(f'Examples:\\n  Total: {total}\\n  Positive: {pos} ({100 * pos / total}%)\\n  Negative: {neg} ({100 * neg / total}%)')"
   ]
  },
  {
   "cell_type": "code",
   "execution_count": 4,
   "id": "d1e4f662",
   "metadata": {},
   "outputs": [
    {
     "data": {
      "text/plain": [
       "((5695, 32), (633, 32), (704, 32))"
      ]
     },
     "execution_count": 4,
     "metadata": {},
     "output_type": "execute_result"
    }
   ],
   "source": [
    "df_train, df_test = train_test_split(df_clean, test_size=0.1)\n",
    "\n",
    "df_train, df_val = train_test_split(df_train, test_size=0.1)\n",
    "\n",
    "train_labels = np.array(df_train.pop(\"Churn\"))\n",
    "bool_train_labels = train_labels != 0\n",
    "val_labels = np.array(df_val.pop(\"Churn\"))\n",
    "test_labels = np.array(df_test.pop(\"Churn\"))\n",
    "\n",
    "train_feat = np.array(df_train)\n",
    "val_feat = np.array(df_val)\n",
    "test_feat = np.array(df_test)\n",
    "\n",
    "train_feat.shape, val_feat.shape, test_feat.shape"
   ]
  },
  {
   "cell_type": "code",
   "execution_count": 5,
   "id": "9d056a56",
   "metadata": {},
   "outputs": [],
   "source": [
    "scaler = StandardScaler()\n",
    "\n",
    "train_feat = np.clip(scaler.fit_transform(train_feat), -5, 5)\n",
    "val_feat = np.clip(scaler.transform(val_feat), -5, 5)\n",
    "test_feat = np.clip(scaler.transform(test_feat), -5, 5)"
   ]
  },
  {
   "cell_type": "code",
   "execution_count": 6,
   "id": "90387d4f",
   "metadata": {},
   "outputs": [],
   "source": [
    "# pca = PCA(0.95)"
   ]
  },
  {
   "cell_type": "code",
   "execution_count": 7,
   "id": "e43c148b",
   "metadata": {},
   "outputs": [
    {
     "data": {
      "text/plain": [
       "0.8009478672985783"
      ]
     },
     "execution_count": 7,
     "metadata": {},
     "output_type": "execute_result"
    }
   ],
   "source": [
    "xgb = XGBClassifier()\n",
    "\n",
    "xgb.fit(train_feat, train_labels)\n",
    "\n",
    "xgb.score(val_feat, val_labels)"
   ]
  },
  {
   "cell_type": "code",
   "execution_count": 8,
   "id": "08883915",
   "metadata": {},
   "outputs": [],
   "source": [
    "xgb_preds = xgb.predict(val_feat)"
   ]
  },
  {
   "cell_type": "code",
   "execution_count": 9,
   "id": "5be2caff",
   "metadata": {},
   "outputs": [
    {
     "data": {
      "text/plain": [
       "0.7068620919387076"
      ]
     },
     "execution_count": 9,
     "metadata": {},
     "output_type": "execute_result"
    }
   ],
   "source": [
    "roc_auc_score(val_labels, xgb_preds)"
   ]
  },
  {
   "cell_type": "code",
   "execution_count": 10,
   "id": "4ff3abc5",
   "metadata": {},
   "outputs": [
    {
     "name": "stdout",
     "output_type": "stream",
     "text": [
      "              precision    recall  f1-score   support\n",
      "\n",
      "           0       0.85      0.89      0.87       475\n",
      "           1       0.62      0.52      0.57       158\n",
      "\n",
      "    accuracy                           0.80       633\n",
      "   macro avg       0.73      0.71      0.72       633\n",
      "weighted avg       0.79      0.80      0.79       633\n",
      "\n"
     ]
    }
   ],
   "source": [
    "print(classification_report(val_labels, xgb_preds))"
   ]
  },
  {
   "cell_type": "code",
   "execution_count": 11,
   "id": "a25d7ae8",
   "metadata": {},
   "outputs": [
    {
     "data": {
      "text/plain": [
       "<sklearn.metrics._plot.confusion_matrix.ConfusionMatrixDisplay at 0x18eec0c89a0>"
      ]
     },
     "execution_count": 11,
     "metadata": {},
     "output_type": "execute_result"
    },
    {
     "data": {
      "image/png": "[encoded data removed]",
      "text/plain": [
       "<Figure size 432x288 with 2 Axes>"
      ]
     },
     "metadata": {
      "needs_background": "light"
     },
     "output_type": "display_data"
    }
   ],
   "source": [
    "ConfusionMatrixDisplay.from_estimator(xgb, val_feat, val_labels)"
   ]
  },
  {
   "cell_type": "code",
   "execution_count": 12,
   "id": "4d19d553",
   "metadata": {},
   "outputs": [],
   "source": [
    "search = {\n",
    "    \"xgboost\": {\n",
    "        \"model\": XGBClassifier(gpu_id=0, use_label_encoder=False, verbosity=1),\n",
    "        \"params\": {\n",
    "            \"n_estimators\": [10, 15, 25, 50, 75, 100, 150, 200],\n",
    "            \"learning_rate\": [0.05, 0.1, 0.3, 0.5],\n",
    "            \"max_depth\": [2, 3, 4, 5, 6, 7, 8]\n",
    "        }\n",
    "    }\n",
    "}"
   ]
  },
  {
   "cell_type": "code",
   "execution_count": 14,
   "id": "16a22095",
   "metadata": {},
   "outputs": [
    {
     "name": "stdout",
     "output_type": "stream",
     "text": [
      "Fitting 3 folds for each of 224 candidates, totalling 672 fits\n"
     ]
    }
   ],
   "source": [
    "scores = []\n",
    "\n",
    "for name, clf in search.items():\n",
    "    grid = GridSearchCV(\n",
    "        estimator=clf[\"model\"],\n",
    "        param_grid=clf[\"params\"],\n",
    "        cv=3,\n",
    "        return_train_score=False,\n",
    "        n_jobs=-1,\n",
    "        refit=False,\n",
    "        verbose=3\n",
    "    )\n",
    "    grid.fit(train_feat, train_labels)\n",
    "    scores.append({\n",
    "        \"name\": name,\n",
    "        \"best_params\": grid.best_params_,\n",
    "        \"best_score\": grid.best_score_\n",
    "    })"
   ]
  },
  {
   "cell_type": "code",
   "execution_count": 15,
   "id": "fbcec88c",
   "metadata": {},
   "outputs": [
    {
     "data": {
      "text/plain": [
       "[{'name': 'xgboost',\n",
       "  'best_params': {'learning_rate': 0.3, 'max_depth': 5, 'n_estimators': 15},\n",
       "  'best_score': 0.7987702843250464}]"
      ]
     },
     "execution_count": 15,
     "metadata": {},
     "output_type": "execute_result"
    }
   ],
   "source": [
    "scores"
   ]
  },
  {
   "cell_type": "code",
   "execution_count": 16,
   "id": "a92b6bc0",
   "metadata": {},
   "outputs": [
    {
     "data": {
      "text/plain": [
       "0.8230647709320695"
      ]
     },
     "execution_count": 16,
     "metadata": {},
     "output_type": "execute_result"
    }
   ],
   "source": [
    "best_xgb = XGBClassifier(n_estimators=15, learning_rate=0.3, max_depth=5)\n",
    "\n",
    "best_xgb.fit(train_feat, train_labels)\n",
    "\n",
    "best_xgb.score(val_feat, val_labels)"
   ]
  },
  {
   "cell_type": "code",
   "execution_count": 17,
   "id": "02d8cc59",
   "metadata": {},
   "outputs": [],
   "source": [
    "preds = best_xgb.predict(val_feat)"
   ]
  },
  {
   "cell_type": "code",
   "execution_count": 18,
   "id": "a50f67cc",
   "metadata": {},
   "outputs": [
    {
     "data": {
      "text/plain": [
       "0.7321585609593604"
      ]
     },
     "execution_count": 18,
     "metadata": {},
     "output_type": "execute_result"
    }
   ],
   "source": [
    "roc_auc_score(val_labels, preds)"
   ]
  },
  {
   "cell_type": "code",
   "execution_count": 19,
   "id": "cf28efda",
   "metadata": {},
   "outputs": [
    {
     "name": "stdout",
     "output_type": "stream",
     "text": [
      "              precision    recall  f1-score   support\n",
      "\n",
      "           0       0.86      0.91      0.89       475\n",
      "           1       0.68      0.55      0.61       158\n",
      "\n",
      "    accuracy                           0.82       633\n",
      "   macro avg       0.77      0.73      0.75       633\n",
      "weighted avg       0.81      0.82      0.82       633\n",
      "\n"
     ]
    }
   ],
   "source": [
    "print(classification_report(val_labels, preds))"
   ]
  },
  {
   "cell_type": "code",
   "execution_count": 20,
   "id": "709b5675",
   "metadata": {},
   "outputs": [
    {
     "data": {
      "text/plain": [
       "<sklearn.metrics._plot.confusion_matrix.ConfusionMatrixDisplay at 0x18efa014d90>"
      ]
     },
     "execution_count": 20,
     "metadata": {},
     "output_type": "execute_result"
    },
    {
     "data": {
      "image/png": "[encoded data removed]",
      "text/plain": [
       "<Figure size 432x288 with 2 Axes>"
      ]
     },
     "metadata": {
      "needs_background": "light"
     },
     "output_type": "display_data"
    }
   ],
   "source": [
    "ConfusionMatrixDisplay.from_estimator(best_xgb, val_feat, val_labels)"
   ]
  },
  {
   "cell_type": "code",
   "execution_count": 21,
   "id": "ed38531b",
   "metadata": {},
   "outputs": [
    {
     "data": {
      "text/plain": [
       "<sklearn.metrics._plot.roc_curve.RocCurveDisplay at 0x18efa2ae050>"
      ]
     },
     "execution_count": 21,
     "metadata": {},
     "output_type": "execute_result"
    },
    {
     "data": {
      "image/png": "[encoded data removed]",
      "text/plain": [
       "<Figure size 432x288 with 1 Axes>"
      ]
     },
     "metadata": {
      "needs_background": "light"
     },
     "output_type": "display_data"
    }
   ],
   "source": [
    "RocCurveDisplay.from_estimator(best_xgb, val_feat, val_labels)"
   ]
  },
  {
   "cell_type": "code",
   "execution_count": null,
   "id": "2fdae758",
   "metadata": {},
   "outputs": [],
   "source": []
  }
 ],
 "metadata": {
  "kernelspec": {
   "display_name": "Python 3 (ipykernel)",
   "language": "python",
   "name": "python3"
  },
  "language_info": {
   "codemirror_mode": {
    "name": "ipython",
    "version": 3
   },
   "file_extension": ".py",
   "mimetype": "text/x-python",
   "name": "python",
   "nbconvert_exporter": "python",
   "pygments_lexer": "ipython3",
   "version": "3.10.5"
  }
 },
 "nbformat": 4,
 "nbformat_minor": 5
}
