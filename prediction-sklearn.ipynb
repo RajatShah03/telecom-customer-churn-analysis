{
 "cells": [
  {
   "cell_type": "code",
   "execution_count": 1,
   "id": "48a30432",
   "metadata": {},
   "outputs": [],
   "source": [
    "import numpy as np\n",
    "import pandas as pd\n",
    "import matplotlib.pyplot as plt\n",
    "import seaborn as sns\n",
    "from sklearn.model_selection import train_test_split, GridSearchCV\n",
    "from sklearn.decomposition import PCA\n",
    "from sklearn.metrics import roc_auc_score, classification_report, ConfusionMatrixDisplay, RocCurveDisplay\n",
    "from sklearn.preprocessing import StandardScaler, MinMaxScaler\n",
    "from sklearn.ensemble import RandomForestClassifier, AdaBoostClassifier, GradientBoostingClassifier\n",
    "\n",
    "%matplotlib inline"
   ]
  },
  {
   "cell_type": "code",
   "execution_count": 4,
   "id": "bd5b1305",
   "metadata": {},
   "outputs": [
    {
     "data": {
      "text/html": [
       "<div>\n",
       "<style scoped>\n",
       "    .dataframe tbody tr th:only-of-type {\n",
       "        vertical-align: middle;\n",
       "    }\n",
       "\n",
       "    .dataframe tbody tr th {\n",
       "        vertical-align: top;\n",
       "    }\n",
       "\n",
       "    .dataframe thead th {\n",
       "        text-align: right;\n",
       "    }\n",
       "</style>\n",
       "<table border=\"1\" class=\"dataframe\">\n",
       "  <thead>\n",
       "    <tr style=\"text-align: right;\">\n",
       "      <th></th>\n",
       "      <th>SeniorCitizen</th>\n",
       "      <th>MonthlyCharges</th>\n",
       "      <th>TotalCharges_log</th>\n",
       "      <th>gender_Male</th>\n",
       "      <th>Partner_Yes</th>\n",
       "      <th>Dependents_Yes</th>\n",
       "      <th>PhoneService_Yes</th>\n",
       "      <th>MultipleLines_No phone service</th>\n",
       "      <th>MultipleLines_Yes</th>\n",
       "      <th>InternetService_Fiber optic</th>\n",
       "      <th>...</th>\n",
       "      <th>Contract_One year</th>\n",
       "      <th>Contract_Two year</th>\n",
       "      <th>PaperlessBilling_Yes</th>\n",
       "      <th>PaymentMethod_Credit card (automatic)</th>\n",
       "      <th>PaymentMethod_Electronic check</th>\n",
       "      <th>PaymentMethod_Mailed check</th>\n",
       "      <th>tenure_cohort_12-24 Months</th>\n",
       "      <th>tenure_cohort_24-48 Months</th>\n",
       "      <th>tenure_cohort_Over 48 Months</th>\n",
       "      <th>Churn</th>\n",
       "    </tr>\n",
       "  </thead>\n",
       "  <tbody>\n",
       "    <tr>\n",
       "      <th>0</th>\n",
       "      <td>0</td>\n",
       "      <td>29.85</td>\n",
       "      <td>3.429137</td>\n",
       "      <td>0</td>\n",
       "      <td>1</td>\n",
       "      <td>0</td>\n",
       "      <td>0</td>\n",
       "      <td>1</td>\n",
       "      <td>0</td>\n",
       "      <td>0</td>\n",
       "      <td>...</td>\n",
       "      <td>0</td>\n",
       "      <td>0</td>\n",
       "      <td>1</td>\n",
       "      <td>0</td>\n",
       "      <td>1</td>\n",
       "      <td>0</td>\n",
       "      <td>0</td>\n",
       "      <td>0</td>\n",
       "      <td>0</td>\n",
       "      <td>0</td>\n",
       "    </tr>\n",
       "    <tr>\n",
       "      <th>1</th>\n",
       "      <td>0</td>\n",
       "      <td>56.95</td>\n",
       "      <td>7.544597</td>\n",
       "      <td>1</td>\n",
       "      <td>0</td>\n",
       "      <td>0</td>\n",
       "      <td>1</td>\n",
       "      <td>0</td>\n",
       "      <td>0</td>\n",
       "      <td>0</td>\n",
       "      <td>...</td>\n",
       "      <td>1</td>\n",
       "      <td>0</td>\n",
       "      <td>0</td>\n",
       "      <td>0</td>\n",
       "      <td>0</td>\n",
       "      <td>1</td>\n",
       "      <td>0</td>\n",
       "      <td>1</td>\n",
       "      <td>0</td>\n",
       "      <td>0</td>\n",
       "    </tr>\n",
       "    <tr>\n",
       "      <th>2</th>\n",
       "      <td>0</td>\n",
       "      <td>53.85</td>\n",
       "      <td>4.692723</td>\n",
       "      <td>1</td>\n",
       "      <td>0</td>\n",
       "      <td>0</td>\n",
       "      <td>1</td>\n",
       "      <td>0</td>\n",
       "      <td>0</td>\n",
       "      <td>0</td>\n",
       "      <td>...</td>\n",
       "      <td>0</td>\n",
       "      <td>0</td>\n",
       "      <td>1</td>\n",
       "      <td>0</td>\n",
       "      <td>0</td>\n",
       "      <td>1</td>\n",
       "      <td>0</td>\n",
       "      <td>0</td>\n",
       "      <td>0</td>\n",
       "      <td>1</td>\n",
       "    </tr>\n",
       "    <tr>\n",
       "      <th>3</th>\n",
       "      <td>0</td>\n",
       "      <td>42.30</td>\n",
       "      <td>7.518471</td>\n",
       "      <td>1</td>\n",
       "      <td>0</td>\n",
       "      <td>0</td>\n",
       "      <td>0</td>\n",
       "      <td>1</td>\n",
       "      <td>0</td>\n",
       "      <td>0</td>\n",
       "      <td>...</td>\n",
       "      <td>1</td>\n",
       "      <td>0</td>\n",
       "      <td>0</td>\n",
       "      <td>0</td>\n",
       "      <td>0</td>\n",
       "      <td>0</td>\n",
       "      <td>0</td>\n",
       "      <td>1</td>\n",
       "      <td>0</td>\n",
       "      <td>0</td>\n",
       "    </tr>\n",
       "    <tr>\n",
       "      <th>4</th>\n",
       "      <td>0</td>\n",
       "      <td>70.70</td>\n",
       "      <td>5.028148</td>\n",
       "      <td>0</td>\n",
       "      <td>0</td>\n",
       "      <td>0</td>\n",
       "      <td>1</td>\n",
       "      <td>0</td>\n",
       "      <td>0</td>\n",
       "      <td>1</td>\n",
       "      <td>...</td>\n",
       "      <td>0</td>\n",
       "      <td>0</td>\n",
       "      <td>1</td>\n",
       "      <td>0</td>\n",
       "      <td>1</td>\n",
       "      <td>0</td>\n",
       "      <td>0</td>\n",
       "      <td>0</td>\n",
       "      <td>0</td>\n",
       "      <td>1</td>\n",
       "    </tr>\n",
       "  </tbody>\n",
       "</table>\n",
       "<p>5 rows × 33 columns</p>\n",
       "</div>"
      ],
      "text/plain": [
       "   SeniorCitizen  MonthlyCharges  TotalCharges_log  gender_Male  Partner_Yes  \\\n",
       "0              0           29.85          3.429137            0            1   \n",
       "1              0           56.95          7.544597            1            0   \n",
       "2              0           53.85          4.692723            1            0   \n",
       "3              0           42.30          7.518471            1            0   \n",
       "4              0           70.70          5.028148            0            0   \n",
       "\n",
       "   Dependents_Yes  PhoneService_Yes  MultipleLines_No phone service  \\\n",
       "0               0                 0                               1   \n",
       "1               0                 1                               0   \n",
       "2               0                 1                               0   \n",
       "3               0                 0                               1   \n",
       "4               0                 1                               0   \n",
       "\n",
       "   MultipleLines_Yes  InternetService_Fiber optic  ...  Contract_One year  \\\n",
       "0                  0                            0  ...                  0   \n",
       "1                  0                            0  ...                  1   \n",
       "2                  0                            0  ...                  0   \n",
       "3                  0                            0  ...                  1   \n",
       "4                  0                            1  ...                  0   \n",
       "\n",
       "   Contract_Two year  PaperlessBilling_Yes  \\\n",
       "0                  0                     1   \n",
       "1                  0                     0   \n",
       "2                  0                     1   \n",
       "3                  0                     0   \n",
       "4                  0                     1   \n",
       "\n",
       "   PaymentMethod_Credit card (automatic)  PaymentMethod_Electronic check  \\\n",
       "0                                      0                               1   \n",
       "1                                      0                               0   \n",
       "2                                      0                               0   \n",
       "3                                      0                               0   \n",
       "4                                      0                               1   \n",
       "\n",
       "   PaymentMethod_Mailed check  tenure_cohort_12-24 Months  \\\n",
       "0                           0                           0   \n",
       "1                           1                           0   \n",
       "2                           1                           0   \n",
       "3                           0                           0   \n",
       "4                           0                           0   \n",
       "\n",
       "   tenure_cohort_24-48 Months  tenure_cohort_Over 48 Months  Churn  \n",
       "0                           0                             0      0  \n",
       "1                           1                             0      0  \n",
       "2                           0                             0      1  \n",
       "3                           1                             0      0  \n",
       "4                           0                             0      1  \n",
       "\n",
       "[5 rows x 33 columns]"
      ]
     },
     "execution_count": 4,
     "metadata": {},
     "output_type": "execute_result"
    }
   ],
   "source": [
    "data_path = \"dataset/data_clean.csv\"\n",
    "\n",
    "df_clean = pd.read_csv(data_path)\n",
    "\n",
    "df_clean.head()"
   ]
  },
  {
   "cell_type": "code",
   "execution_count": 30,
   "id": "b2a2cad3",
   "metadata": {},
   "outputs": [
    {
     "name": "stdout",
     "output_type": "stream",
     "text": [
      "Examples:\n",
      "  Total: 7032\n",
      "  Positive: 1869 (26.57849829351536%)\n",
      "  Negative: 5163 (73.42150170648465%)\n"
     ]
    }
   ],
   "source": [
    "neg, pos = np.bincount(df_clean[\"Churn\"])\n",
    "total = pos + neg\n",
    "\n",
    "print(f'Examples:\\n  Total: {total}\\n  Positive: {pos} ({100 * pos / total}%)\\n  Negative: {neg} ({100 * neg / total}%)')"
   ]
  },
  {
   "cell_type": "code",
   "execution_count": 7,
   "id": "d875bb13",
   "metadata": {},
   "outputs": [
    {
     "data": {
      "text/plain": [
       "((5695, 32), (633, 32), (704, 32))"
      ]
     },
     "execution_count": 7,
     "metadata": {},
     "output_type": "execute_result"
    }
   ],
   "source": [
    "df_train, df_test = train_test_split(df_clean, test_size=0.1)\n",
    "\n",
    "df_train, df_val = train_test_split(df_train, test_size=0.1)\n",
    "\n",
    "train_labels = np.array(df_train.pop(\"Churn\"))\n",
    "bool_train_labels = train_labels != 0\n",
    "val_labels = np.array(df_val.pop(\"Churn\"))\n",
    "test_labels = np.array(df_test.pop(\"Churn\"))\n",
    "\n",
    "train_feat = np.array(df_train)\n",
    "val_feat = np.array(df_val)\n",
    "test_feat = np.array(df_test)\n",
    "\n",
    "train_feat.shape, val_feat.shape, test_feat.shape"
   ]
  },
  {
   "cell_type": "code",
   "execution_count": 8,
   "id": "ee0514ce",
   "metadata": {},
   "outputs": [],
   "source": [
    "scaler = StandardScaler()\n",
    "\n",
    "train_feat = np.clip(scaler.fit_transform(train_feat), -5, 5)\n",
    "val_feat = np.clip(scaler.transform(val_feat), -5, 5)\n",
    "test_feat = np.clip(scaler.transform(test_feat), -5, 5)"
   ]
  },
  {
   "cell_type": "code",
   "execution_count": null,
   "id": "9b8f1dd4",
   "metadata": {},
   "outputs": [],
   "source": [
    "# pca = PCA(0.95)"
   ]
  },
  {
   "cell_type": "code",
   "execution_count": 10,
   "id": "75e75e46",
   "metadata": {},
   "outputs": [],
   "source": [
    "baseline = RandomForestClassifier()\n",
    "\n",
    "baseline.fit(train_feat, train_labels)\n",
    "\n",
    "baseline_preds = baseline.predict(val_feat)"
   ]
  },
  {
   "cell_type": "code",
   "execution_count": 11,
   "id": "0702466a",
   "metadata": {},
   "outputs": [
    {
     "data": {
      "text/plain": [
       "0.6890157942827307"
      ]
     },
     "execution_count": 11,
     "metadata": {},
     "output_type": "execute_result"
    }
   ],
   "source": [
    "roc_auc_score(val_labels, baseline_preds)"
   ]
  },
  {
   "cell_type": "code",
   "execution_count": 12,
   "id": "523ba7fe",
   "metadata": {},
   "outputs": [
    {
     "name": "stdout",
     "output_type": "stream",
     "text": [
      "              precision    recall  f1-score   support\n",
      "\n",
      "           0       0.83      0.89      0.86       470\n",
      "           1       0.60      0.49      0.54       163\n",
      "\n",
      "    accuracy                           0.79       633\n",
      "   macro avg       0.72      0.69      0.70       633\n",
      "weighted avg       0.77      0.79      0.78       633\n",
      "\n"
     ]
    }
   ],
   "source": [
    "print(classification_report(val_labels, baseline_preds))"
   ]
  },
  {
   "cell_type": "code",
   "execution_count": 13,
   "id": "02d585ed",
   "metadata": {},
   "outputs": [
    {
     "data": {
      "text/plain": [
       "<sklearn.metrics._plot.confusion_matrix.ConfusionMatrixDisplay at 0x1c768b60340>"
      ]
     },
     "execution_count": 13,
     "metadata": {},
     "output_type": "execute_result"
    },
    {
     "data": {
      "image/png": "[encoded data removed]",
      "text/plain": [
       "<Figure size 432x288 with 2 Axes>"
      ]
     },
     "metadata": {
      "needs_background": "light"
     },
     "output_type": "display_data"
    }
   ],
   "source": [
    "ConfusionMatrixDisplay.from_estimator(baseline, val_feat, val_labels)"
   ]
  },
  {
   "cell_type": "code",
   "execution_count": 14,
   "id": "c1c16870",
   "metadata": {},
   "outputs": [],
   "source": [
    "search = {\n",
    "    \"random_forest\": {\n",
    "        \"model\": RandomForestClassifier(),\n",
    "        \"params\": {\n",
    "            \"n_estimators\": [25, 50, 75, 100, 150],\n",
    "            \"max_depth\": [2, 3, 4, 5, 6],\n",
    "            \"criterion\": [\"entropy\", \"gini\"]\n",
    "        }\n",
    "    },\n",
    "    \"ada_boost\": {\n",
    "        \"model\": AdaBoostClassifier(),\n",
    "        \"params\": {\n",
    "            \"n_estimators\": [25, 50, 75, 100, 150],\n",
    "            \"learning_rate\": [0.05, 0.1, 0.3, 0.5]\n",
    "        }\n",
    "    },\n",
    "    \"gradient_boost\": {\n",
    "        \"model\": GradientBoostingClassifier(),\n",
    "        \"params\": {\n",
    "            \"n_estimators\": [25, 50, 75, 100, 150],\n",
    "            \"learning_rate\": [0.05, 0.1, 0.3, 0.5],\n",
    "            \"max_depth\": [2, 3, 4, 5, 6]\n",
    "        }\n",
    "    }\n",
    "}"
   ]
  },
  {
   "cell_type": "code",
   "execution_count": 16,
   "id": "da85fd46",
   "metadata": {},
   "outputs": [
    {
     "name": "stdout",
     "output_type": "stream",
     "text": [
      "Fitting 3 folds for each of 50 candidates, totalling 150 fits\n",
      "Fitting 3 folds for each of 20 candidates, totalling 60 fits\n",
      "Fitting 3 folds for each of 100 candidates, totalling 300 fits\n"
     ]
    }
   ],
   "source": [
    "scores = []\n",
    "\n",
    "for name, clf in search.items():\n",
    "    grid = GridSearchCV(\n",
    "        estimator=clf[\"model\"],\n",
    "        param_grid=clf[\"params\"],\n",
    "        cv=3,\n",
    "        return_train_score=False,\n",
    "        n_jobs=-1,\n",
    "        refit=False,\n",
    "        verbose=3\n",
    "    )\n",
    "    grid.fit(train_feat, train_labels)\n",
    "    scores.append({\n",
    "        \"name\": name,\n",
    "        \"best_params\": grid.best_params_,\n",
    "        \"best_score\": grid.best_score_\n",
    "    })"
   ]
  },
  {
   "cell_type": "code",
   "execution_count": 17,
   "id": "8b654447",
   "metadata": {},
   "outputs": [
    {
     "data": {
      "text/plain": [
       "[{'name': 'random_forest',\n",
       "  'best_params': {'criterion': 'gini', 'max_depth': 6, 'n_estimators': 100},\n",
       "  'best_score': 0.801931506664351},\n",
       " {'name': 'ada_boost',\n",
       "  'best_params': {'learning_rate': 0.3, 'n_estimators': 100},\n",
       "  'best_score': 0.8077261561323108},\n",
       " {'name': 'gradient_boost',\n",
       "  'best_params': {'learning_rate': 0.1, 'max_depth': 2, 'n_estimators': 150},\n",
       "  'best_score': 0.8063212609080298}]"
      ]
     },
     "execution_count": 17,
     "metadata": {},
     "output_type": "execute_result"
    }
   ],
   "source": [
    "scores"
   ]
  },
  {
   "cell_type": "code",
   "execution_count": 18,
   "id": "e9eb9dbd",
   "metadata": {},
   "outputs": [
    {
     "data": {
      "text/plain": [
       "0.8120063191153238"
      ]
     },
     "execution_count": 18,
     "metadata": {},
     "output_type": "execute_result"
    }
   ],
   "source": [
    "best_model = AdaBoostClassifier(n_estimators=100, learning_rate=0.3)\n",
    "\n",
    "best_model.fit(train_feat, train_labels)\n",
    "\n",
    "best_model.score(val_feat, val_labels)"
   ]
  },
  {
   "cell_type": "code",
   "execution_count": 19,
   "id": "b75f86f4",
   "metadata": {},
   "outputs": [
    {
     "data": {
      "text/plain": [
       "0.731144759169821"
      ]
     },
     "execution_count": 19,
     "metadata": {},
     "output_type": "execute_result"
    }
   ],
   "source": [
    "preds = best_model.predict(val_feat)\n",
    "\n",
    "roc_auc_score(val_labels, preds)"
   ]
  },
  {
   "cell_type": "code",
   "execution_count": 20,
   "id": "c27a0b29",
   "metadata": {},
   "outputs": [
    {
     "name": "stdout",
     "output_type": "stream",
     "text": [
      "              precision    recall  f1-score   support\n",
      "\n",
      "           0       0.86      0.90      0.88       470\n",
      "           1       0.66      0.56      0.61       163\n",
      "\n",
      "    accuracy                           0.81       633\n",
      "   macro avg       0.76      0.73      0.74       633\n",
      "weighted avg       0.80      0.81      0.81       633\n",
      "\n"
     ]
    }
   ],
   "source": [
    "print(classification_report(val_labels, preds))"
   ]
  },
  {
   "cell_type": "code",
   "execution_count": 21,
   "id": "42f6081c",
   "metadata": {},
   "outputs": [
    {
     "data": {
      "text/plain": [
       "<sklearn.metrics._plot.confusion_matrix.ConfusionMatrixDisplay at 0x1c76925d750>"
      ]
     },
     "execution_count": 21,
     "metadata": {},
     "output_type": "execute_result"
    },
    {
     "data": {
      "image/png": "[encoded data removed]",
      "text/plain": [
       "<Figure size 432x288 with 2 Axes>"
      ]
     },
     "metadata": {
      "needs_background": "light"
     },
     "output_type": "display_data"
    }
   ],
   "source": [
    "ConfusionMatrixDisplay.from_estimator(best_model, val_feat, val_labels)"
   ]
  },
  {
   "cell_type": "code",
   "execution_count": 23,
   "id": "663edf8f",
   "metadata": {},
   "outputs": [
    {
     "data": {
      "text/plain": [
       "<sklearn.metrics._plot.roc_curve.RocCurveDisplay at 0x1c768f35390>"
      ]
     },
     "execution_count": 23,
     "metadata": {},
     "output_type": "execute_result"
    },
    {
     "data": {
      "image/png": "[encoded data removed]",
      "text/plain": [
       "<Figure size 432x288 with 1 Axes>"
      ]
     },
     "metadata": {
      "needs_background": "light"
     },
     "output_type": "display_data"
    }
   ],
   "source": [
    "RocCurveDisplay.from_estimator(best_model, val_feat, val_labels)"
   ]
  },
  {
   "cell_type": "markdown",
   "id": "f2a399b0",
   "metadata": {},
   "source": [
    "### Test set score"
   ]
  },
  {
   "cell_type": "code",
   "execution_count": 29,
   "id": "7e48075f",
   "metadata": {},
   "outputs": [
    {
     "data": {
      "text/plain": [
       "0.7997159090909091"
      ]
     },
     "execution_count": 29,
     "metadata": {},
     "output_type": "execute_result"
    }
   ],
   "source": [
    "best_model.score(test_feat, test_labels)"
   ]
  },
  {
   "cell_type": "code",
   "execution_count": 24,
   "id": "b1b71f93",
   "metadata": {},
   "outputs": [],
   "source": [
    "test_preds = best_model.predict(test_feat)"
   ]
  },
  {
   "cell_type": "code",
   "execution_count": 25,
   "id": "7a38e981",
   "metadata": {},
   "outputs": [
    {
     "data": {
      "text/plain": [
       "0.6974932815932381"
      ]
     },
     "execution_count": 25,
     "metadata": {},
     "output_type": "execute_result"
    }
   ],
   "source": [
    "roc_auc_score(test_labels, test_preds)"
   ]
  },
  {
   "cell_type": "code",
   "execution_count": 26,
   "id": "9972ae20",
   "metadata": {},
   "outputs": [
    {
     "name": "stdout",
     "output_type": "stream",
     "text": [
      "              precision    recall  f1-score   support\n",
      "\n",
      "           0       0.85      0.89      0.87       537\n",
      "           1       0.59      0.50      0.54       167\n",
      "\n",
      "    accuracy                           0.80       704\n",
      "   macro avg       0.72      0.70      0.71       704\n",
      "weighted avg       0.79      0.80      0.79       704\n",
      "\n"
     ]
    }
   ],
   "source": [
    "print(classification_report(test_labels, test_preds))"
   ]
  },
  {
   "cell_type": "code",
   "execution_count": 27,
   "id": "8d884ade",
   "metadata": {},
   "outputs": [
    {
     "data": {
      "text/plain": [
       "<sklearn.metrics._plot.confusion_matrix.ConfusionMatrixDisplay at 0x1c76b1607c0>"
      ]
     },
     "execution_count": 27,
     "metadata": {},
     "output_type": "execute_result"
    },
    {
     "data": {
      "image/png": "[encoded data removed]",
      "text/plain": [
       "<Figure size 432x288 with 2 Axes>"
      ]
     },
     "metadata": {
      "needs_background": "light"
     },
     "output_type": "display_data"
    }
   ],
   "source": [
    "ConfusionMatrixDisplay.from_estimator(best_model, test_feat, test_labels)"
   ]
  },
  {
   "cell_type": "code",
   "execution_count": 28,
   "id": "943bb9c7",
   "metadata": {},
   "outputs": [
    {
     "data": {
      "text/plain": [
       "<sklearn.metrics._plot.roc_curve.RocCurveDisplay at 0x1c768ba0af0>"
      ]
     },
     "execution_count": 28,
     "metadata": {},
     "output_type": "execute_result"
    },
    {
     "data": {
      "image/png": "[encoded data removed]",
      "text/plain": [
       "<Figure size 432x288 with 1 Axes>"
      ]
     },
     "metadata": {
      "needs_background": "light"
     },
     "output_type": "display_data"
    }
   ],
   "source": [
    "RocCurveDisplay.from_estimator(best_model, test_feat, test_labels)"
   ]
  },
  {
   "cell_type": "code",
   "execution_count": null,
   "id": "1293a258",
   "metadata": {},
   "outputs": [],
   "source": []
  }
 ],
 "metadata": {
  "kernelspec": {
   "display_name": "Python 3 (ipykernel)",
   "language": "python",
   "name": "python3"
  },
  "language_info": {
   "codemirror_mode": {
    "name": "ipython",
    "version": 3
   },
   "file_extension": ".py",
   "mimetype": "text/x-python",
   "name": "python",
   "nbconvert_exporter": "python",
   "pygments_lexer": "ipython3",
   "version": "3.10.5"
  }
 },
 "nbformat": 4,
 "nbformat_minor": 5
}
